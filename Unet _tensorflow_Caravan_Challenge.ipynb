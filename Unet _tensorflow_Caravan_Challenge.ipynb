{
 "cells": [
  {
   "cell_type": "code",
   "execution_count": 1,
   "metadata": {
    "collapsed": true
   },
   "outputs": [],
   "source": [
    "%reset -sf"
   ]
  },
  {
   "cell_type": "code",
   "execution_count": 2,
   "metadata": {
    "collapsed": true
   },
   "outputs": [],
   "source": [
    "%matplotlib inline\n",
    "import matplotlib.pyplot as plt\n",
    "import tensorflow as tf\n",
    "import numpy as np\n",
    "import pandas as pd\n",
    "import random\n",
    "import cv2\n",
    "import glob\n",
    "import os\n",
    "from scipy import ndimage\n",
    "from PIL import Image"
   ]
  },
  {
   "cell_type": "code",
   "execution_count": 3,
   "metadata": {
    "collapsed": true
   },
   "outputs": [],
   "source": [
    "nH=512\n",
    "nW=256"
   ]
  },
  {
   "cell_type": "code",
   "execution_count": 4,
   "metadata": {
    "collapsed": true
   },
   "outputs": [],
   "source": [
    "img_dir=\"C:/Users/Reza/Desktop/Deep learning/project/u-net segmentation/Image-Segmentation-with-Tensorflow-master/Carvana Image Masking Challenge (kaggle)/train/\"\n",
    "mask_dir=\"C:/Users/Reza/Desktop/Deep learning/project/u-net segmentation/Image-Segmentation-with-Tensorflow-master/Carvana Image Masking Challenge (kaggle)/train_masks/\"\n",
    "\n",
    "def file_names():\n",
    "    \n",
    "    file_name=[]\n",
    "    names=glob.glob(img_dir+\"*.jpg\")\n",
    "    \n",
    "    for name in names:\n",
    "        file_name.append(os.path.basename(name).split(\".\")[0])\n",
    "\n",
    "    return file_name"
   ]
  },
  {
   "cell_type": "code",
   "execution_count": 5,
   "metadata": {
    "collapsed": true
   },
   "outputs": [],
   "source": [
    "file_name=file_names()\n",
    "shuffel_index= np.random.permutation(len(file_name))\n",
    "\n",
    "def batch_image(batch_size,batch_num):\n",
    "    img_batch=[]\n",
    "    mask_batch=[]\n",
    "    \n",
    "    \n",
    "    for i in range(batch_size):\n",
    "        img=Image.open(img_dir+str(file_name[shuffel_index[batch_size*batch_num+i]])+\".jpg\").convert(\"L\")\n",
    "        img=np.array(img.resize((nH,nW),Image.BICUBIC))\n",
    "        img=np.expand_dims(img,axis=3)\n",
    "        img=img/255.\n",
    "        img_batch.append(img)\n",
    "        \n",
    "        mask=Image.open(mask_dir+str(file_name[shuffel_index[batch_size*batch_num+i]])+\"_mask.gif\").convert(\"L\")\n",
    "        mask=np.array(mask.resize((nH,nW),Image.BICUBIC))\n",
    "        mask=np.expand_dims(mask,axis=2)\n",
    "        mask=mask/255.\n",
    "        mask1=1.-mask\n",
    "        mask=np.concatenate((mask,mask1),axis=2)\n",
    "        mask_batch.append(mask)\n",
    "\n",
    "    \n",
    "    return img_batch, mask_batch"
   ]
  },
  {
   "cell_type": "code",
   "execution_count": 6,
   "metadata": {
    "collapsed": true
   },
   "outputs": [],
   "source": [
    "tf.reset_default_graph()\n",
    "input_x = tf.placeholder(tf.float32, [None, None, None, 1])\n",
    "input_y = tf.placeholder(tf.float32, [None, None, None, 2])\n",
    "train= tf.placeholder(tf.bool)"
   ]
  },
  {
   "cell_type": "code",
   "execution_count": 7,
   "metadata": {
    "collapsed": true
   },
   "outputs": [],
   "source": [
    "def pool(inputs):\n",
    "    pooled = tf.layers.max_pooling2d(inputs=inputs, pool_size=[2, 2], strides=2)\n",
    "    return pooled"
   ]
  },
  {
   "cell_type": "code",
   "execution_count": 8,
   "metadata": {
    "collapsed": true
   },
   "outputs": [],
   "source": [
    "def conv2d(input_layer,filter_num,filter_size,drop_rate,padding='valid',train=True):\n",
    "    \n",
    "    conv_layer=tf.layers.conv2d(inputs=input_layer,filters=filter_num,kernel_size=filter_size,\n",
    "                                padding=padding, activation=tf.nn.relu,\n",
    "                                kernel_initializer=tf.contrib.layers.xavier_initializer(uniform=False),\n",
    "                                bias_initializer=tf.constant_initializer(0.1))\n",
    "    \n",
    "    batch_norm=tf.layers.batch_normalization(conv_layer,training=train)\n",
    "    \n",
    "    return batch_norm"
   ]
  },
  {
   "cell_type": "code",
   "execution_count": 9,
   "metadata": {
    "collapsed": true
   },
   "outputs": [],
   "source": [
    "def conv2d_transpose(input_layer,filter_num,filter_size,drop_rate,stride,padding='valid',train=True):\n",
    "    \n",
    "    deconv_layer=tf.layers.conv2d_transpose(inputs=input_layer,filters=filter_num,\n",
    "                                            kernel_size=filter_size,\n",
    "                                            strides=2,padding=padding, activation=tf.nn.relu)\n",
    "    \n",
    "    return deconv_layer"
   ]
  },
  {
   "cell_type": "code",
   "execution_count": 10,
   "metadata": {
    "collapsed": true
   },
   "outputs": [],
   "source": [
    "def down_layer(input_layer,filter_num,filter_size,drop_rate,padding='same',train=True):\n",
    "    \n",
    "    layer1=conv2d(input_layer,filter_num,filter_size,drop_rate,padding=padding,train=True)\n",
    "    layer2=conv2d(layer1,filter_num,filter_size,drop_rate,padding=padding,train=True)\n",
    "    \n",
    "    return layer2"
   ]
  },
  {
   "cell_type": "code",
   "execution_count": 11,
   "metadata": {
    "collapsed": true
   },
   "outputs": [],
   "source": [
    "def up_layer(input_layer,filter_num,filter_size,dropout_rate,padding='same',train=True):\n",
    "    \n",
    "    layer1=conv2d(input_layer,filter_num,filter_size,dropout_rate,padding=padding,train=True)\n",
    "    layer2=conv2d(layer1,filter_num,filter_size,dropout_rate,padding=padding,train=True)\n",
    "    \n",
    "    return layer2"
   ]
  },
  {
   "cell_type": "code",
   "execution_count": 12,
   "metadata": {
    "collapsed": true
   },
   "outputs": [],
   "source": [
    "def layer_level(previous_layer,filter_num,filter_size,dropout_rate,stride,layer_num,pad='valid',train=True):\n",
    "    \n",
    "    if(layer_num>0):\n",
    "        current_layer_down= down_layer(previous_layer,filter_num,filter_size,dropout_rate,pad,train)\n",
    "        current_layer =tf.layers.max_pooling2d(inputs=current_layer_down,pool_size=2,strides=2,padding=pad)\n",
    "        current_layer = layer_level(current_layer,(filter_num*2),filter_size,dropout_rate,stride,(layer_num-1),pad,True)\n",
    "        current_layer = tf.concat([current_layer_down,current_layer], 3)    \n",
    "    \n",
    "    if (layer_num==0): \n",
    "        current_layer = up_layer(previous_layer,filter_num,filter_size,dropout_rate,pad,train)\n",
    "    else:\n",
    "        current_layer = up_layer(current_layer,filter_num,filter_size,dropout_rate,pad,train)\n",
    "    \n",
    "    if(layer_num<4):\n",
    "        current_layer = conv2d_transpose(current_layer,filter_num//2,filter_size,dropout_rate,stride,pad,True)\n",
    "       \n",
    "        \n",
    "    return current_layer"
   ]
  },
  {
   "cell_type": "code",
   "execution_count": 13,
   "metadata": {
    "collapsed": true
   },
   "outputs": [],
   "source": [
    "def one_by_one(input_layer,filter_num,filter_size,drop_rate,pad='valid',train=True):\n",
    "    \n",
    "    fully_con= tf.layers.conv2d(inputs=input_layer,filters=filter_num,kernel_size=filter_size,\n",
    "                                padding=pad)\n",
    "    \n",
    "    return fully_con"
   ]
  },
  {
   "cell_type": "code",
   "execution_count": 14,
   "metadata": {
    "collapsed": true
   },
   "outputs": [],
   "source": [
    "filter_num=16\n",
    "filter_size=3\n",
    "dropout_rate=0.0\n",
    "stride=1\n",
    "layer_num=4\n",
    "pad='same'\n",
    "\n",
    "def my_unet(input_layer):\n",
    "    \n",
    "    final= layer_level(input_layer,filter_num,filter_size,dropout_rate,stride,layer_num,pad)\n",
    "    output= one_by_one(final,2,1,drop_rate=0.0,pad=pad,train=train)\n",
    "    \n",
    "    return output"
   ]
  },
  {
   "cell_type": "code",
   "execution_count": 15,
   "metadata": {
    "collapsed": true
   },
   "outputs": [],
   "source": [
    "starter_learning_rate = 0.004\n",
    "n_iteration=200\n",
    "\n",
    "sess = tf.Session()\n",
    "with tf.variable_scope(\"net\") as scope:\n",
    "    logits = my_unet(input_x)\n",
    "    out=tf.nn.sigmoid(logits)\n",
    "    \n",
    "labels = input_y\n",
    "flat_logits = tf.reshape(logits, [-1, 2])\n",
    "flat_labels = tf.reshape(labels, [-1, 2])\n",
    "\n",
    "loss = tf.reduce_mean(tf.nn.softmax_cross_entropy_with_logits(logits=flat_logits, labels=flat_labels))\n",
    "\n",
    "global_step = tf.train.get_or_create_global_step()\n",
    "learning_rate = tf.train.exponential_decay(starter_learning_rate, \n",
    "                                           global_step,n_iteration, decay_rate=0.5, staircase=False)\n",
    "\n",
    "optimizer = tf.train.AdamOptimizer(learning_rate=learning_rate).minimize(loss=loss)\n",
    "    \n",
    "sess.run(tf.global_variables_initializer())"
   ]
  },
  {
   "cell_type": "code",
   "execution_count": 16,
   "metadata": {},
   "outputs": [
    {
     "name": "stdout",
     "output_type": "stream",
     "text": [
      "iter loss =  0.985627\n",
      "iter loss =  0.202392\n",
      "iter loss =  0.146447\n",
      "iter loss =  0.0932917\n",
      "iter loss =  0.12774\n",
      "iter loss =  0.0655516\n",
      "iter loss =  0.0604828\n",
      "iter loss =  0.0631788\n",
      "iter loss =  0.0571701\n",
      "iter loss =  0.0512672\n",
      "iter loss =  0.0331802\n",
      "iter loss =  0.041365\n",
      "iter loss =  0.0387121\n",
      "iter loss =  0.0335336\n",
      "iter loss =  0.030226\n",
      "iter loss =  0.027532\n",
      "iter loss =  0.0270875\n",
      "iter loss =  0.0230564\n",
      "iter loss =  0.0257647\n",
      "iter loss =  0.0221792\n"
     ]
    }
   ],
   "source": [
    "extra_update_ops = tf.get_collection(tf.GraphKeys.UPDATE_OPS)\n",
    "\n",
    "for epoch in range(200):\n",
    "    x_train, y_train = batch_image(16,epoch)\n",
    "    \n",
    "    with tf.control_dependencies(extra_update_ops):\n",
    "        _, iter_loss = sess.run((optimizer, loss), feed_dict={input_x: x_train,\n",
    "                                                              input_y: y_train,\n",
    "                                                              train: \"True\"})\n",
    "    if epoch%10 == 0:\n",
    "        print(\"iter loss = \", iter_loss)\n",
    "        \n",
    "x_test, y_test = batch_image(16,300)\n",
    "x = sess.run(out, feed_dict={input_x: x_test, \n",
    "                                input_y: y_test,\n",
    "                                train: \"False\"})"
   ]
  },
  {
   "cell_type": "code",
   "execution_count": 34,
   "metadata": {},
   "outputs": [
    {
     "data": {
      "text/plain": [
       "Text(0.5,1,'Prediction')"
      ]
     },
     "execution_count": 34,
     "metadata": {},
     "output_type": "execute_result"
    },
    {
     "data": {
      "image/png": "[encoded data removed]",
      "text/plain": [
       "<matplotlib.figure.Figure at 0x23590ae5ef0>"
      ]
     },
     "metadata": {},
     "output_type": "display_data"
    }
   ],
   "source": [
    "ff=x_test[0]\n",
    "ff1=y_test[0]\n",
    "mask=x[0]>0.4\n",
    "fig, ax= plt.subplots(1,3, sharex=True, sharey=True, figsize=(12,4))\n",
    "ax[0].imshow(ff[:,:,0], cmap='gray')\n",
    "ax[1].imshow(ff1[:,:,0], cmap='gray')\n",
    "ax[2].imshow(mask[:,:,0], cmap='gray')\n",
    "ax[0].set_title(\"Input\")\n",
    "ax[1].set_title(\"Ground truth\")\n",
    "ax[2].set_title(\"Prediction\")"
   ]
  },
  {
   "cell_type": "code",
   "execution_count": null,
   "metadata": {},
   "outputs": [],
   "source": []
  },
  {
   "cell_type": "code",
   "execution_count": null,
   "metadata": {},
   "outputs": [],
   "source": []
  },
  {
   "cell_type": "code",
   "execution_count": null,
   "metadata": {
    "collapsed": true
   },
   "outputs": [],
   "source": []
  },
  {
   "cell_type": "code",
   "execution_count": 35,
   "metadata": {
    "collapsed": true
   },
   "outputs": [],
   "source": [
    "sess.close()"
   ]
  },
  {
   "cell_type": "code",
   "execution_count": null,
   "metadata": {
    "collapsed": true
   },
   "outputs": [],
   "source": []
  },
  {
   "cell_type": "code",
   "execution_count": null,
   "metadata": {
    "collapsed": true
   },
   "outputs": [],
   "source": []
  },
  {
   "cell_type": "code",
   "execution_count": null,
   "metadata": {
    "collapsed": true
   },
   "outputs": [],
   "source": []
  },
  {
   "cell_type": "code",
   "execution_count": null,
   "metadata": {
    "collapsed": true
   },
   "outputs": [],
   "source": []
  },
  {
   "cell_type": "code",
   "execution_count": null,
   "metadata": {
    "collapsed": true
   },
   "outputs": [],
   "source": []
  },
  {
   "cell_type": "code",
   "execution_count": null,
   "metadata": {
    "collapsed": true
   },
   "outputs": [],
   "source": []
  },
  {
   "cell_type": "code",
   "execution_count": null,
   "metadata": {
    "collapsed": true
   },
   "outputs": [],
   "source": []
  },
  {
   "cell_type": "code",
   "execution_count": null,
   "metadata": {
    "collapsed": true
   },
   "outputs": [],
   "source": []
  }
 ],
 "metadata": {
  "kernelspec": {
   "display_name": "Python 3",
   "language": "python",
   "name": "python3"
  },
  "language_info": {
   "codemirror_mode": {
    "name": "ipython",
    "version": 3
   },
   "file_extension": ".py",
   "mimetype": "text/x-python",
   "name": "python",
   "nbconvert_exporter": "python",
   "pygments_lexer": "ipython3",
   "version": "3.6.3"
  }
 },
 "nbformat": 4,
 "nbformat_minor": 2
}
